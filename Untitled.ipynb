{
 "cells": [
  {
   "cell_type": "code",
   "execution_count": null,
   "id": "68a5848c",
   "metadata": {},
   "outputs": [],
   "source": [
    "%%cmd\n",
    "pip install opencv-python"
   ]
  },
  {
   "cell_type": "code",
   "execution_count": null,
   "id": "2bf6de59",
   "metadata": {},
   "outputs": [],
   "source": [
    "%%cmd\n",
    "pip install cmake"
   ]
  },
  {
   "cell_type": "code",
   "execution_count": null,
   "id": "00021f1a",
   "metadata": {},
   "outputs": [],
   "source": [
    "import cv2"
   ]
  },
  {
   "cell_type": "code",
   "execution_count": 1,
   "id": "521eeef1",
   "metadata": {},
   "outputs": [
    {
     "name": "stdout",
     "output_type": "stream",
     "text": [
      "Microsoft Windows [Version 10.0.22621.1848]\n",
      "(c) Microsoft Corporation. All rights reserved.\n",
      "\n",
      "(base) C:\\Users\\Bhavya Mittal\\face>python --version\n",
      "Python 3.11.5\n",
      "\n",
      "(base) C:\\Users\\Bhavya Mittal\\face>"
     ]
    }
   ],
   "source": [
    "%%cmd\n",
    "python --version"
   ]
  },
  {
   "cell_type": "code",
   "execution_count": null,
   "id": "b8b1e8a1",
   "metadata": {},
   "outputs": [],
   "source": [
    "%%cmd\n",
    "pip install \"D:\\packages\\dlib-19.24.1-cp311-cp311-win_amd64.whl\""
   ]
  },
  {
   "cell_type": "code",
   "execution_count": null,
   "id": "635148a7",
   "metadata": {},
   "outputs": [],
   "source": [
    "%%cmd\n",
    "pip install face-recognition"
   ]
  },
  {
   "cell_type": "code",
   "execution_count": 1,
   "id": "435a036d",
   "metadata": {},
   "outputs": [],
   "source": [
    "import cv2\n",
    "import face_recognition\n",
    "import threading\n",
    "\n",
    "cap = cv2.VideoCapture(0, cv2.CAP_DSHOW)\n",
    "cap.set(cv2.CAP_PROP_FRAME_WIDTH, 640)\n",
    "cap.set(cv2.CAP_PROP_FRAME_HEIGHT, 480)\n",
    "\n",
    "counter = 0\n",
    "no_match_count = 0\n",
    "max_no_matches = 5  # Set the maximum number of no matches to trigger the message\n",
    "\n",
    "# Load the reference image\n",
    "reference_img = face_recognition.load_image_file(\"reference.jpeg\")\n",
    "reference_encoding = face_recognition.face_encodings(reference_img)[0]\n",
    " \n",
    "def check_face(frame):\n",
    "    global no_match_count\n",
    "    try:\n",
    "        face_locations = face_recognition.face_locations(frame)\n",
    "        face_encodings = face_recognition.face_encodings(frame, face_locations)\n",
    "\n",
    "        if len(face_encodings) > 0:\n",
    "            # Check if the face matches the reference face\n",
    "            match = face_recognition.compare_faces([reference_encoding], face_encodings[0])[0]\n",
    "            if match:\n",
    "                no_match_count = 0\n",
    "            else:\n",
    "                no_match_count += 1\n",
    "        else:\n",
    "            no_match_count += 1\n",
    "\n",
    "    except Exception as e:\n",
    "        print(f\"Error: {e}\")\n",
    "        no_match_count += 1\n",
    "\n",
    "while True:\n",
    "    ret, frame = cap.read()\n",
    "\n",
    "    if ret:\n",
    "        if counter % 30 == 0:\n",
    "            try:\n",
    "                threading.Thread(target=check_face, args=(frame.copy(),)).start()\n",
    "            except ValueError:\n",
    "                pass\n",
    "        counter += 1\n",
    "\n",
    "        if no_match_count >= max_no_matches:\n",
    "            cv2.putText(frame, \"Your test has ended.\", (20, 450), cv2.FONT_HERSHEY_SIMPLEX, 1, (0, 0, 255), 3)\n",
    "            cv2.imshow(\"video\", frame)\n",
    "            cv2.waitKey(3000) \n",
    "            break  \n",
    "        elif no_match_count > 0:\n",
    "            cv2.putText(frame, f\"No match count: {no_match_count}\", (20, 450), cv2.FONT_HERSHEY_SIMPLEX, 1, (0, 0, 255), 3)\n",
    "        else:\n",
    "            cv2.putText(frame, \"MATCH!\", (20, 450), cv2.FONT_HERSHEY_SIMPLEX, 2, (0, 255, 0), 3)\n",
    "\n",
    "        cv2.imshow(\"video\", frame)\n",
    "    key = cv2.waitKey(1)\n",
    "    if key == ord(\"q\"):\n",
    "        break\n",
    "\n",
    "cv2.destroyAllWindows()\n",
    "cap.release()\n"
   ]
  },
  {
   "cell_type": "code",
   "execution_count": null,
   "id": "95998326",
   "metadata": {},
   "outputs": [],
   "source": []
  }
 ],
 "metadata": {
  "kernelspec": {
   "display_name": "Python 3 (ipykernel)",
   "language": "python",
   "name": "python3"
  },
  "language_info": {
   "codemirror_mode": {
    "name": "ipython",
    "version": 3
   },
   "file_extension": ".py",
   "mimetype": "text/x-python",
   "name": "python",
   "nbconvert_exporter": "python",
   "pygments_lexer": "ipython3",
   "version": "3.11.5"
  }
 },
 "nbformat": 4,
 "nbformat_minor": 5
}
